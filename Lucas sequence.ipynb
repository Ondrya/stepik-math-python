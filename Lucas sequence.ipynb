{
 "cells": [
  {
   "cell_type": "markdown",
   "id": "ff9ff48a",
   "metadata": {},
   "source": [
    "# Последовательность Люка - Lucas sequence"
   ]
  },
  {
   "cell_type": "markdown",
   "id": "accebc84",
   "metadata": {},
   "source": [
    "Как и в последовательности Фибоначчи у нас есть 2 начальных члена, но на сей раз это произвольные числа. Например, 12345 и 67890. Их сумма даст нам следующий элемент. И так далее.\n",
    "\n",
    "Т.е. $L_n = L_{n-1} + L_{n-2}$"
   ]
  },
  {
   "cell_type": "markdown",
   "id": "3401193b",
   "metadata": {},
   "source": [
    "Напишите функцию luka(L0, L1, n), которая принимает на вход параметры:\n",
    "\n",
    " - L0, L1 - 0й и 1й члены последовательности соответственно\n",
    " - n - номер числа из последовательности, которое необходимо вернуть"
   ]
  },
  {
   "cell_type": "code",
   "execution_count": 12,
   "id": "f4a5d335",
   "metadata": {},
   "outputs": [],
   "source": [
    "# последовательность Люка - не используем рекурсию, так как Python усекает её на 1000 шаге\n",
    "def luka(L0, L1, n):\n",
    "    if n==0:\n",
    "        return L0\n",
    "    if n==1:\n",
    "        return L1\n",
    "    i = 1\n",
    "    while i < n:\n",
    "        L0, L1 = L1, L0 + L1\n",
    "        #print(L1, end=' ')\n",
    "        i += 1\n",
    "    return L1"
   ]
  },
  {
   "cell_type": "code",
   "execution_count": 13,
   "id": "b3fd978f",
   "metadata": {},
   "outputs": [
    {
     "data": {
      "text/plain": [
       "55"
      ]
     },
     "execution_count": 13,
     "metadata": {},
     "output_type": "execute_result"
    }
   ],
   "source": [
    "# для l0 = 0 и l1 = 1 это обычная последовательность Фибоначчи\n",
    "luka(0, 1, 10)"
   ]
  },
  {
   "cell_type": "code",
   "execution_count": 14,
   "id": "a9c24798",
   "metadata": {},
   "outputs": [
    {
     "data": {
      "text/plain": [
       "42"
      ]
     },
     "execution_count": 14,
     "metadata": {},
     "output_type": "execute_result"
    }
   ],
   "source": [
    "luka(42, 13, 0)"
   ]
  },
  {
   "cell_type": "markdown",
   "id": "4405cceb",
   "metadata": {},
   "source": [
    "Напишите функцию fi(L0, L1, n) такую что:\n",
    "\n",
    "L0, L1 - 0й и 1й члены последовательности Люка соответственно\n",
    "n - номер числа из последовательности, которое необходимо вернуть\n",
    "Возвращаемое значение - это отношение 2 членов последовательности: $L_n / L_{n-1}$\n",
    " \n",
    "Гарантируется, что $n\\geq2$"
   ]
  },
  {
   "cell_type": "code",
   "execution_count": 27,
   "id": "f4efa8b7",
   "metadata": {},
   "outputs": [],
   "source": [
    "from decimal import *\n",
    "getcontext().prec = 50\n",
    "\n",
    "def fi(L0, L1, n):\n",
    "    i = 1\n",
    "    while i < n:\n",
    "        L0, L1 = L1, L0 + L1\n",
    "        i += 1\n",
    "    return Decimal(L1)/Decimal(L0)"
   ]
  },
  {
   "cell_type": "code",
   "execution_count": 28,
   "id": "87751a72",
   "metadata": {},
   "outputs": [
    {
     "data": {
      "text/plain": [
       "Decimal('1.6181818181818181818181818181818181818181818181818')"
      ]
     },
     "execution_count": 28,
     "metadata": {},
     "output_type": "execute_result"
    }
   ],
   "source": [
    "fi(0, 1, 11)"
   ]
  },
  {
   "cell_type": "markdown",
   "id": "d0cd5642",
   "metadata": {},
   "source": [
    "# Числа Люка и формулы разложения"
   ]
  },
  {
   "cell_type": "markdown",
   "id": "60129aeb",
   "metadata": {},
   "source": [
    "Числа Люка - это конкретная последовательность из семейства Последовательностей Люка. Она начинается с 2 и 1:\n",
    "\n",
    "2, 1, 3, 4, 7, 11, 18, 29, ...\n",
    "\n",
    "Заметьте, как это похоже на Числа Фибоначчи (1, 1, 2, 3, 5, 8, 13, 21, 34, ...)\n",
    "\n",
    "И они обладают рядом свойств \"умножения\" (далее перечислены только некоторые из них):\n",
    "\n",
    " - $L(2n) = L (n) ^ 2 - 2 * (- 1) ^ n$ \n",
    " - $L(3n) = L (n) ^ 3 - 3 * (- 1) ^ n * L (n)$\n",
    " - $L(4n) = L (n) ^ 4 - 4 * (- 1) ^ n * L (n) ^ 2 + 2$\n",
    " - $L(5n) = L (n) ^ 5 - 5 * (- 1) ^ n * L (n) ^ 3 + 5 * L (n)$\n",
    " - $L(6n) = L (n) ^ 6 - 6 * (- 1) ^ n * L (n) ^ 4 + 9 * L (n) ^ 2 - 2 * (- 1) ^ n$\n",
    "\n",
    "Для сравнения предположим, что я реализовал 3 \"наивных\" функции для нахождения n-ого числа Люка:\n",
    "\n",
    " - L(n) - это обычное n-е число Люка (начальные значения 2 и 1)\n",
    " - L2n(n) - если n чётное, то к нему применяется формула разложения для чисел кратных 2 (см выше). Функция рекурсивная.\n",
    " - L4n(n) - если n делится на 4, то к нему применяется формула разложения для чисел кратных 4 (см выше). Функция рекурсивная. \n",
    "\n",
    "[подробнее...](https://stepik.org/lesson/178503/step/6?unit=154906)"
   ]
  },
  {
   "cell_type": "markdown",
   "id": "295979e9",
   "metadata": {},
   "source": [
    "Напишем функцию super_L(n), находящую n-е число Люка.\n",
    "\n",
    "Используем формулы для разложения из предыдущего шага, чтобы увеличить быстродействие вашей функции."
   ]
  },
  {
   "cell_type": "code",
   "execution_count": 29,
   "id": "179e6c69",
   "metadata": {},
   "outputs": [],
   "source": [
    "# число Люка\n",
    "def L(n):\n",
    "    return luka(2, 1, n)"
   ]
  },
  {
   "cell_type": "code",
   "execution_count": 32,
   "id": "bff09912",
   "metadata": {},
   "outputs": [],
   "source": [
    "# будем использовать разложения, функцию нахождение мы написали ранее luka, со стартовыми числами 2 и 1\n",
    "def super_L(n):\n",
    "    if n % 6 == 0:\n",
    "        n = n // 6\n",
    "        return L(n)**6 - 6*(-1)**n*L(n)**4 + 9*L(n)**2 -2*(-1)**n\n",
    "    elif n % 5 == 0:\n",
    "        n = n // 5\n",
    "        return L(n)**5 - 5*(-1)**n*L(n)**3 + 5*L(n)\n",
    "    elif n % 4 == 0:\n",
    "        n = n // 4\n",
    "        return L(n)**4 - 4*(-1)**n*L(n)**2 + 2\n",
    "    elif n % 3 == 0:\n",
    "        n = n // 3\n",
    "        return L(n)**3 - 3*(-1)**n*L(n)\n",
    "    elif n % 2 == 0:\n",
    "        n = n // 2\n",
    "        return L(n)**2 - 2*(-1)**n\n",
    "    else:\n",
    "        return L(n)"
   ]
  },
  {
   "cell_type": "code",
   "execution_count": 33,
   "id": "cf43e504",
   "metadata": {},
   "outputs": [
    {
     "data": {
      "text/plain": [
       "33385282"
      ]
     },
     "execution_count": 33,
     "metadata": {},
     "output_type": "execute_result"
    }
   ],
   "source": [
    "super_L(36)"
   ]
  },
  {
   "cell_type": "code",
   "execution_count": 34,
   "id": "d87adc8f",
   "metadata": {},
   "outputs": [
    {
     "data": {
      "text/plain": [
       "41473935220454921602871195774259272002"
      ]
     },
     "execution_count": 34,
     "metadata": {},
     "output_type": "execute_result"
    }
   ],
   "source": [
    "super_L(180)"
   ]
  },
  {
   "cell_type": "code",
   "execution_count": null,
   "id": "5bafc7aa",
   "metadata": {},
   "outputs": [],
   "source": []
  }
 ],
 "metadata": {
  "kernelspec": {
   "display_name": "Python 3 (ipykernel)",
   "language": "python",
   "name": "python3"
  },
  "language_info": {
   "codemirror_mode": {
    "name": "ipython",
    "version": 3
   },
   "file_extension": ".py",
   "mimetype": "text/x-python",
   "name": "python",
   "nbconvert_exporter": "python",
   "pygments_lexer": "ipython3",
   "version": "3.9.13"
  }
 },
 "nbformat": 4,
 "nbformat_minor": 5
}
